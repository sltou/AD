{
  "nbformat": 4,
  "nbformat_minor": 0,
  "metadata": {
    "colab": {
      "name": "project1.ipynb",
      "provenance": [],
      "collapsed_sections": [],
      "include_colab_link": true
    },
    "kernelspec": {
      "name": "python3",
      "display_name": "Python 3"
    }
  },
  "cells": [
    {
      "cell_type": "markdown",
      "metadata": {
        "id": "view-in-github",
        "colab_type": "text"
      },
      "source": [
        "<a href=\"https://colab.research.google.com/github/sltou/AD/blob/master/project1.ipynb\" target=\"_parent\"><img src=\"https://colab.research.google.com/assets/colab-badge.svg\" alt=\"Open In Colab\"/></a>"
      ]
    },
    {
      "cell_type": "markdown",
      "metadata": {
        "id": "GGeCbG_rIA6k",
        "colab_type": "text"
      },
      "source": [
        "Source code to solve for ODE from https://apmonitor.com/pdc/index.php/Main/SolveDifferentialEquations\n",
        "\n",
        "# Part 1"
      ]
    },
    {
      "cell_type": "code",
      "metadata": {
        "id": "1CQVYohggMTF",
        "colab_type": "code",
        "colab": {}
      },
      "source": [
        "import numpy as np\n",
        "from scipy.integrate import odeint\n",
        "import matplotlib.pyplot as plt\n",
        "import multiprocessing as mp\n",
        "import itertools\n",
        "from google.colab import files"
      ],
      "execution_count": 0,
      "outputs": []
    },
    {
      "cell_type": "code",
      "metadata": {
        "id": "2sZDn3ewj_gm",
        "colab_type": "code",
        "colab": {}
      },
      "source": [
        "def diffeq(z,t,alpha,k,a,b,omega):\n",
        "  x = z[0]\n",
        "  y = z[1]\n",
        "  xdot = alpha*(y+x-x**3/3+k)\n",
        "  ydot = -1/alpha*(omega**2*x-a+b*y)\n",
        "  zdot = [xdot,ydot]\n",
        "  return zdot"
      ],
      "execution_count": 0,
      "outputs": []
    },
    {
      "cell_type": "code",
      "metadata": {
        "id": "23UA0PW0xAJX",
        "colab_type": "code",
        "colab": {}
      },
      "source": [
        "# initial condition\n",
        "z0 = [0,0]\n",
        "\n",
        "# number of seconds\n",
        "n = 100\n",
        "\n",
        "#sample frequency\n",
        "fs = 64\n",
        "\n",
        "# time points\n",
        "t = np.linspace(0,n,n*fs)"
      ],
      "execution_count": 0,
      "outputs": []
    },
    {
      "cell_type": "code",
      "metadata": {
        "id": "21Ks0LEYGhPR",
        "colab_type": "code",
        "colab": {}
      },
      "source": [
        "# store solution\n",
        "x = np.empty_like(t)\n",
        "y = np.empty_like(t)\n",
        "# record initial conditions\n",
        "x[0] = z0[0]\n",
        "y[0] = z0[1]"
      ],
      "execution_count": 0,
      "outputs": []
    },
    {
      "cell_type": "code",
      "metadata": {
        "id": "CoFtkzS1Abv-",
        "colab_type": "code",
        "colab": {}
      },
      "source": [
        "#play around with multiprocessing\n",
        "pal=mp.Pool(100)"
      ],
      "execution_count": 0,
      "outputs": []
    },
    {
      "cell_type": "code",
      "metadata": {
        "id": "GcfU_rdEA7-y",
        "colab_type": "code",
        "colab": {}
      },
      "source": [
        "# solve ODE for k=-0.5\n",
        "z = odeint(diffeq,z0,t,args=(3,-0.5,0.7,0.8,1)) #use k =-0.5\n",
        "# store solution for plotting\n",
        "x = z[:,0]\n",
        "y = z[:,1]"
      ],
      "execution_count": 0,
      "outputs": []
    },
    {
      "cell_type": "markdown",
      "metadata": {
        "id": "s7PBSqNcCExs",
        "colab_type": "text"
      },
      "source": [
        "# solve ODE for k=-0.5, old code\n",
        "for i in range(1,n*fs):\n",
        "    # span for next time step\n",
        "    # solve for next step\n",
        "    z = odeint(diffeq,z0,t,args=(3,-0.5,0.7,0.8,1)) #use k =-0.5\n",
        "    # store solution for plotting\n",
        "    x[i] = z[1][0]\n",
        "    y[i] = z[1][1]\n",
        "    # next initial condition\n",
        "    z0 = z[1]\n"
      ]
    },
    {
      "cell_type": "code",
      "metadata": {
        "id": "FSHRUsjZH0Xa",
        "colab_type": "code",
        "outputId": "1cca2b00-f508-4775-b3ed-6bbacd036420",
        "colab": {
          "base_uri": "https://localhost:8080/",
          "height": 279
        }
      },
      "source": [
        "# plot results for k=-0.5\n",
        "plt.plot(t,x,'b-',label='x(t)')\n",
        "plt.plot(t,y,'r--',label='y(t)')\n",
        "plt.ylabel('values')\n",
        "plt.xlabel('time')\n",
        "plt.legend(loc='best')\n",
        "plt.show()"
      ],
      "execution_count": 38,
      "outputs": [
        {
          "output_type": "display_data",
          "data": {
            "image/png": "[encoded data removed]",
            "text/plain": [
              "<Figure size 432x288 with 1 Axes>"
            ]
          },
          "metadata": {
            "tags": []
          }
        }
      ]
    },
    {
      "cell_type": "markdown",
      "metadata": {
        "id": "5EYPC2crIUrK",
        "colab_type": "text"
      },
      "source": [
        "Yay it oscillates!"
      ]
    },
    {
      "cell_type": "code",
      "metadata": {
        "id": "kyQ-X_ynIw23",
        "colab_type": "code",
        "outputId": "f7a2777b-257b-4c74-cc35-ad830fa2fd27",
        "colab": {
          "base_uri": "https://localhost:8080/",
          "height": 367
        }
      },
      "source": [
        "#calculate frequency of the signal x and y, install the necessary packages\n",
        "!pip install spectrum\n",
        "import spectrum"
      ],
      "execution_count": 3,
      "outputs": [
        {
          "output_type": "stream",
          "text": [
            "Collecting spectrum\n",
            "\u001b[?25l  Downloading https://files.pythonhosted.org/packages/68/40/1923c4ab434024f1eb9b9ab3b2b0693ddacb21ace92ea280461b37605c0e/spectrum-0.7.6.tar.gz (227kB)\n",
            "\r\u001b[K     |█▍                              | 10kB 15.5MB/s eta 0:00:01\r\u001b[K     |██▉                             | 20kB 1.6MB/s eta 0:00:01\r\u001b[K     |████▎                           | 30kB 2.3MB/s eta 0:00:01\r\u001b[K     |█████▊                          | 40kB 1.6MB/s eta 0:00:01\r\u001b[K     |███████▏                        | 51kB 1.8MB/s eta 0:00:01\r\u001b[K     |████████▋                       | 61kB 2.2MB/s eta 0:00:01\r\u001b[K     |██████████                      | 71kB 2.4MB/s eta 0:00:01\r\u001b[K     |███████████▌                    | 81kB 2.6MB/s eta 0:00:01\r\u001b[K     |█████████████                   | 92kB 2.9MB/s eta 0:00:01\r\u001b[K     |██████████████▍                 | 102kB 2.7MB/s eta 0:00:01\r\u001b[K     |███████████████▉                | 112kB 2.7MB/s eta 0:00:01\r\u001b[K     |█████████████████▎              | 122kB 2.7MB/s eta 0:00:01\r\u001b[K     |██████████████████▊             | 133kB 2.7MB/s eta 0:00:01\r\u001b[K     |████████████████████▏           | 143kB 2.7MB/s eta 0:00:01\r\u001b[K     |█████████████████████▋          | 153kB 2.7MB/s eta 0:00:01\r\u001b[K     |███████████████████████         | 163kB 2.7MB/s eta 0:00:01\r\u001b[K     |████████████████████████▌       | 174kB 2.7MB/s eta 0:00:01\r\u001b[K     |██████████████████████████      | 184kB 2.7MB/s eta 0:00:01\r\u001b[K     |███████████████████████████▍    | 194kB 2.7MB/s eta 0:00:01\r\u001b[K     |████████████████████████████▉   | 204kB 2.7MB/s eta 0:00:01\r\u001b[K     |██████████████████████████████▎ | 215kB 2.7MB/s eta 0:00:01\r\u001b[K     |███████████████████████████████▊| 225kB 2.7MB/s eta 0:00:01\r\u001b[K     |████████████████████████████████| 235kB 2.7MB/s \n",
            "\u001b[?25hRequirement already satisfied: numpy in /usr/local/lib/python3.6/dist-packages (from spectrum) (1.17.5)\n",
            "Requirement already satisfied: scipy in /usr/local/lib/python3.6/dist-packages (from spectrum) (1.4.1)\n",
            "Requirement already satisfied: matplotlib in /usr/local/lib/python3.6/dist-packages (from spectrum) (3.1.3)\n",
            "Requirement already satisfied: kiwisolver>=1.0.1 in /usr/local/lib/python3.6/dist-packages (from matplotlib->spectrum) (1.1.0)\n",
            "Requirement already satisfied: python-dateutil>=2.1 in /usr/local/lib/python3.6/dist-packages (from matplotlib->spectrum) (2.6.1)\n",
            "Requirement already satisfied: pyparsing!=2.0.4,!=2.1.2,!=2.1.6,>=2.0.1 in /usr/local/lib/python3.6/dist-packages (from matplotlib->spectrum) (2.4.6)\n",
            "Requirement already satisfied: cycler>=0.10 in /usr/local/lib/python3.6/dist-packages (from matplotlib->spectrum) (0.10.0)\n",
            "Requirement already satisfied: setuptools in /usr/local/lib/python3.6/dist-packages (from kiwisolver>=1.0.1->matplotlib->spectrum) (45.1.0)\n",
            "Requirement already satisfied: six>=1.5 in /usr/local/lib/python3.6/dist-packages (from python-dateutil>=2.1->matplotlib->spectrum) (1.12.0)\n",
            "Building wheels for collected packages: spectrum\n",
            "  Building wheel for spectrum (setup.py) ... \u001b[?25l\u001b[?25hdone\n",
            "  Created wheel for spectrum: filename=spectrum-0.7.6-cp36-cp36m-linux_x86_64.whl size=234247 sha256=3dad757081b92dcdc0aec1e193dc6c2f6fe2e0e64d5233ff2dd81aeda7f132fe\n",
            "  Stored in directory: /root/.cache/pip/wheels/7b/a1/1f/16e3bd0418dc16201a4f2e696ab00de3e3c95549cba7df5d13\n",
            "Successfully built spectrum\n",
            "Installing collected packages: spectrum\n",
            "Successfully installed spectrum-0.7.6\n"
          ],
          "name": "stdout"
        }
      ]
    },
    {
      "cell_type": "code",
      "metadata": {
        "id": "mEFP3V4gJcfg",
        "colab_type": "code",
        "colab": {}
      },
      "source": [
        "p = spectrum.Periodogram(x,sampling=fs) #the non-parametric PSD\n",
        "p.run()"
      ],
      "execution_count": 0,
      "outputs": []
    },
    {
      "cell_type": "code",
      "metadata": {
        "id": "iTPinGuBVnGp",
        "colab_type": "code",
        "outputId": "43053ca1-2f23-44db-9bd8-157a4ee1c38a",
        "colab": {
          "base_uri": "https://localhost:8080/",
          "height": 35
        }
      },
      "source": [
        " #find the frequency that is greater than 0 that has maximum psd\n",
        "print(p.frequencies()[np.where(p.psd[1:] == np.amax(p.psd[1:]))[0][0]+1])"
      ],
      "execution_count": 22,
      "outputs": [
        {
          "output_type": "stream",
          "text": [
            "0.1\n"
          ],
          "name": "stdout"
        }
      ]
    },
    {
      "cell_type": "markdown",
      "metadata": {
        "id": "wvpv-6gnMEY-",
        "colab_type": "text"
      },
      "source": [
        "Frequency peaks at 0.1 Hz and the other shows its harmonics\n",
        "\n",
        "More documentation on the spectrum library https://pyspectrum.readthedocs.io/en/latest/quickstart.html"
      ]
    },
    {
      "cell_type": "markdown",
      "metadata": {
        "id": "js6nF-btYxE6",
        "colab_type": "text"
      },
      "source": [
        "Now that we successfully extract the instrinsic frequency for one k (or z in the project pdf..), we can make a for loop to test different ks"
      ]
    },
    {
      "cell_type": "code",
      "metadata": {
        "id": "YUoxiLO8DLhO",
        "colab_type": "code",
        "colab": {}
      },
      "source": [
        "def df2freq(k): #lets just say we only care about x\n",
        "  z = odeint(diffeq,z0,t,args=(3,k,0.7,0.8,1))\n",
        "  x = z[:,0]\n",
        "  #y = z[:,1]\n",
        "  p_x = spectrum.Periodogram(x,sampling=fs)\n",
        "  p_x.run()\n",
        "  #p_y = spectrum.Periodogram(y,sampling=fs)\n",
        "  return p_x.frequencies()[np.where(p_x.psd[1:] == np.amax(p_x.psd[1:]))[0][0]+1]"
      ],
      "execution_count": 0,
      "outputs": []
    },
    {
      "cell_type": "code",
      "metadata": {
        "id": "zi6PFusLErZg",
        "colab_type": "code",
        "colab": {
          "base_uri": "https://localhost:8080/",
          "height": 35
        },
        "outputId": "0fc96ed2-17a5-4186-c08f-a74962105b14"
      },
      "source": [
        "#define steps for iteration\n",
        "step = 0.005\n",
        "begin = -2\n",
        "end = 0\n",
        "print('Time to execute as a single process: ', end='')\n",
        "%timeit x_freq = [df2freq(k) for k in np.arange(begin,end,step)]"
      ],
      "execution_count": 27,
      "outputs": [
        {
          "output_type": "stream",
          "text": [
            "Time to execute as a single process: 1 loop, best of 3: 6.67 s per loop\n"
          ],
          "name": "stdout"
        }
      ]
    },
    {
      "cell_type": "code",
      "metadata": {
        "id": "t-woOG4oFO2w",
        "colab_type": "code",
        "colab": {
          "base_uri": "https://localhost:8080/",
          "height": 35
        },
        "outputId": "71fd7279-63bd-45db-86ba-4d6b14a4d476"
      },
      "source": [
        "k = np.arange(begin,end,step)\n",
        "print('Time to execute as multiple processes: ', end='')\n",
        "%timeit x_freq = pal.map(df2freq,k)\n",
        "# for this case, it's actually slower to multi-process in this case because of the overhead"
      ],
      "execution_count": 30,
      "outputs": [
        {
          "output_type": "stream",
          "text": [
            "Time to execute as multiple processes: 1 loop, best of 3: 6.89 s per loop\n"
          ],
          "name": "stdout"
        }
      ]
    },
    {
      "cell_type": "code",
      "metadata": {
        "id": "OJO_JpCkFw1V",
        "colab_type": "code",
        "colab": {}
      },
      "source": [
        "x_freq = [df2freq(k) for k in np.arange(begin,end,step)]"
      ],
      "execution_count": 0,
      "outputs": []
    },
    {
      "cell_type": "code",
      "metadata": {
        "id": "7FQ9Vlg8Yvxz",
        "colab_type": "code",
        "colab": {}
      },
      "source": [
        " #OLD CODE DONT USE define steps for iteration\n",
        " step = 0.005\n",
        " begin = -2\n",
        " end = 0\n",
        " x_freq = np.zeros(round((end-begin)/step))\n",
        " y_freq = np.zeros(round((end-begin)/step))\n",
        " idx = 0\n",
        " for k in np.arange(begin,end,step):\n",
        "    z = odeint(diffeq,z0,t,args=(3,k,0.7,0.8,1))\n",
        "    x = z[:,0]\n",
        "    y = z[:,1]\n",
        "    p_x = spectrum.Periodogram(x,sampling=fs)\n",
        "    p_y = spectrum.Periodogram(y,sampling=fs)\n",
        "    x_freq[idx] = p_x.frequencies()[np.where(p_x.psd[1:] == np.amax(p_x.psd[1:]))[0][0]+1]\n",
        "    y_freq[idx] = p_y.frequencies()[np.where(p_y.psd[1:] == np.amax(p_y.psd[1:]))[0][0]+1]\n",
        "    idx = idx + 1"
      ],
      "execution_count": 0,
      "outputs": []
    },
    {
      "cell_type": "code",
      "metadata": {
        "id": "99uyzqJrbgA-",
        "colab_type": "code",
        "outputId": "1f8afd2b-ef09-46db-cb9c-f6539447edbf",
        "colab": {
          "base_uri": "https://localhost:8080/",
          "height": 297
        }
      },
      "source": [
        "#plot the result!\n",
        "plt.plot(np.arange(begin,end,step),x_freq, label='x')\n",
        "#plt.plot(np.arange(begin,end,step),y_freq, label='y')\n",
        "plt.xlabel('k values')\n",
        "plt.ylabel('intrisic frequency')\n",
        "plt.legend(loc='best')"
      ],
      "execution_count": 46,
      "outputs": [
        {
          "output_type": "execute_result",
          "data": {
            "text/plain": [
              "<matplotlib.legend.Legend at 0x7fb6a7e0a978>"
            ]
          },
          "metadata": {
            "tags": []
          },
          "execution_count": 46
        },
        {
          "output_type": "display_data",
          "data": {
            "image/png": "[encoded data removed]",
            "text/plain": [
              "<Figure size 432x288 with 1 Axes>"
            ]
          },
          "metadata": {
            "tags": []
          }
        }
      ]
    },
    {
      "cell_type": "markdown",
      "metadata": {
        "id": "dNA2JGCWjiop",
        "colab_type": "text"
      },
      "source": [
        "# Part 2"
      ]
    },
    {
      "cell_type": "code",
      "metadata": {
        "id": "oFZ6Fm9gNP4k",
        "colab_type": "code",
        "colab": {}
      },
      "source": [
        "f1_begin = -1.3\n",
        "f1_end = -0.3 +0.01\n",
        "f1_step = 0.1\n",
        "c_begin = 0\n",
        "c_end = 1.01\n",
        "c_step = 0.1\n",
        "n = 100\n",
        "fs = 64"
      ],
      "execution_count": 0,
      "outputs": []
    },
    {
      "cell_type": "code",
      "metadata": {
        "id": "Q4vx0YOYmUHi",
        "colab_type": "code",
        "colab": {}
      },
      "source": [
        "#for loop only, no fancy parallel processing\n",
        "\n",
        "x1 = np.zeros((round((f1_end-f1_begin)/f1_step)+1, round((c_end-c_begin)/c_step)+1,n*fs))\n",
        "x2 = np.zeros((round((f1_end-f1_begin)/f1_step)+1, round((c_end-c_begin)/c_step)+1,n*fs))\n",
        "z1_old = [0,0]\n",
        "z2_old = [0,0]\n",
        "k2 = -1.3\n",
        "k1_idx = 0\n",
        "t = np.linspace(0,n,n*fs)\n",
        "for k1 in np.arange(f1_begin, f1_end, f1_step):\n",
        "  c_idx = 0\n",
        "  for c in np.arange(c_begin, c_end, c_step):\n",
        "    for i in range(1,n*fs):\n",
        "      z1 = odeint(diffeq,z1_old,[t[i-1],t[i]],args=(3,k1+c*z2_old[0],0.7,0.8,1)) #inclement 1 time step each\n",
        "      z2 = odeint(diffeq,z2_old,[t[i-1],t[i]],args=(3,k2+c*z1_old[0],0.7,0.8,1))\n",
        "      x1[k1_idx, c_idx, i] = z1[1][0]\n",
        "      x2[k1_idx, c_idx, i] = z2[1][0]\n",
        "      z1_old = z1[1]\n",
        "      z2_old = z2[1]\n",
        "    c_idx = c_idx + 1\n",
        "  k1_idx = k1_idx + 1\n",
        "\n"
      ],
      "execution_count": 0,
      "outputs": []
    },
    {
      "cell_type": "code",
      "metadata": {
        "id": "f4zSjbrSHJeR",
        "colab_type": "code",
        "colab": {}
      },
      "source": [
        "x1_2d = x1.reshape(((round((f1_end-f1_begin)/f1_step)+1)*(round((c_end-c_begin)/c_step)+1),n*fs))\n",
        "x2_2d = x2.reshape(((round((f1_end-f1_begin)/f1_step)+1)*(round((c_end-c_begin)/c_step)+1),n*fs))"
      ],
      "execution_count": 0,
      "outputs": []
    },
    {
      "cell_type": "code",
      "metadata": {
        "id": "-aIyBEXzTXVL",
        "colab_type": "code",
        "colab": {}
      },
      "source": [
        "#set up parallel processing\n",
        "k1 = np.arange(f1_begin, f1_end, f1_step)\n",
        "c = np.arange(c_begin, c_end, c_step)\n",
        "paramlist = list(itertools.product(k1,c))\n",
        "pal=mp.Pool(10)"
      ],
      "execution_count": 0,
      "outputs": []
    },
    {
      "cell_type": "code",
      "metadata": {
        "id": "WMye9zph9aas",
        "colab_type": "code",
        "colab": {}
      },
      "source": [
        "def simulation(k1,c):\n",
        "  x1 = np.zeros(n*fs)\n",
        "  x2 = np.zeros(n*fs)\n",
        "  z1_old = [0,0]\n",
        "  z2_old = [0,0]\n",
        "  k2 = -1.3\n",
        "  t = np.linspace(0,n,n*fs)\n",
        "  for i in range(1,n*fs):\n",
        "      z1 = odeint(diffeq,z1_old,[t[i-1],t[i]],args=(3,k1+c*z2_old[0],0.7,0.8,1)) #inclement 1 time step each\n",
        "      z2 = odeint(diffeq,z2_old,[t[i-1],t[i]],args=(3,k2+c*z1_old[0],0.7,0.8,1))\n",
        "      x1[i] = z1[1][0]\n",
        "      x2[i] = z2[1][0]\n",
        "      z1_old = z1[1]\n",
        "      z2_old = z2[1]\n",
        "  return (x1,x2)"
      ],
      "execution_count": 0,
      "outputs": []
    },
    {
      "cell_type": "code",
      "metadata": {
        "id": "Z_VpgMkrA3ZG",
        "colab_type": "code",
        "colab": {
          "base_uri": "https://localhost:8080/",
          "height": 35
        },
        "outputId": "cd0bdb6f-24c9-4370-a98e-48a8e34b8c09"
      },
      "source": [
        "print('Time to execute as multiple processes: ', end='')\n",
        "%timeit x1x2 = pal.starmap(simulation,iterable=paramlist)"
      ],
      "execution_count": 34,
      "outputs": [
        {
          "output_type": "stream",
          "text": [
            "Time to execute as multiple processes: 1 loop, best of 3: 2min 19s per loop\n"
          ],
          "name": "stdout"
        }
      ]
    },
    {
      "cell_type": "code",
      "metadata": {
        "id": "ubuJfzpMIeEi",
        "colab_type": "code",
        "colab": {}
      },
      "source": [
        "x1x2 = pal.starmap(simulation,iterable=paramlist)"
      ],
      "execution_count": 0,
      "outputs": []
    },
    {
      "cell_type": "code",
      "metadata": {
        "id": "drg9zG-xiqMm",
        "colab_type": "code",
        "colab": {}
      },
      "source": [
        "# lets save the time series results\n",
        "# https://colab.research.google.com/github/geekmj/python-tutorials/blob/master/numpy-basics/save-array-to-file.ipynb\n",
        "\n",
        "np.savetxt(fname=\"x1.csv\", delimiter=\",\", X=x1_2d)\n",
        "files.download(\"x1.csv\")\n",
        "np.savetxt(fname=\"x2.csv\", delimiter=\",\", X=x2_2d)\n",
        "files.download(\"x2.csv\")"
      ],
      "execution_count": 0,
      "outputs": []
    },
    {
      "cell_type": "code",
      "metadata": {
        "id": "neGrt1TtPC6X",
        "colab_type": "code",
        "colab": {
          "base_uri": "https://localhost:8080/",
          "height": 87
        },
        "outputId": "dca3c769-de2c-401f-99a3-914af1ff210c"
      },
      "source": [
        "x1 = x1x2[0]"
      ],
      "execution_count": 39,
      "outputs": [
        {
          "output_type": "execute_result",
          "data": {
            "text/plain": [
              "(array([ 0.        , -0.06230808, -0.12740293, ..., -1.43249983,\n",
              "        -1.42915365, -1.42580807]),\n",
              " array([ 0.        , -0.06230808, -0.12740293, ..., -1.43249983,\n",
              "        -1.42915365, -1.42580807]))"
            ]
          },
          "metadata": {
            "tags": []
          },
          "execution_count": 39
        }
      ]
    }
  ]
}